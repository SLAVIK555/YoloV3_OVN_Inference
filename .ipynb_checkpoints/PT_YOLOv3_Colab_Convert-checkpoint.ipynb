{
 "cells": [
  {
   "cell_type": "code",
   "execution_count": null,
   "metadata": {
    "id": "WGDY2HTyjoqm"
   },
   "outputs": [],
   "source": [
    "# from google.colab import drive #for colab\n",
    "# drive.mount('/content/gdrive')\n",
    "# !ln -s /content/gdrive/My\\ Drive/ /mydrive\n",
    "# !ls /mydrive"
   ]
  },
  {
   "cell_type": "code",
   "execution_count": null,
   "metadata": {
    "id": "AWQk3vp_kGyV"
   },
   "outputs": [],
   "source": [
    "# !git clone https://github.com/ultralytics/yolov3.git #for colab\n",
    "# %cd yolov3\n",
    "# !pip install -r requirements.txt"
   ]
  },
  {
   "cell_type": "code",
   "execution_count": 1,
   "metadata": {
    "id": "xzyhar-apLMb"
   },
   "outputs": [
    {
     "ename": "SyntaxError",
     "evalue": "invalid syntax (<ipython-input-1-95e2731627dc>, line 3)",
     "output_type": "error",
     "traceback": [
      "\u001b[0;36m  File \u001b[0;32m\"<ipython-input-1-95e2731627dc>\"\u001b[0;36m, line \u001b[0;32m3\u001b[0m\n\u001b[0;31m    path_to_pt_model = &{path} + \"/\" + ${mname} + \".pt\"\u001b[0m\n\u001b[0m                       ^\u001b[0m\n\u001b[0;31mSyntaxError\u001b[0m\u001b[0;31m:\u001b[0m invalid syntax\n"
     ]
    }
   ],
   "source": [
    "path = \"/home/slava/Source/YoloV3_OVN_Inference/PT_V3_models/320-200\"\n",
    "mname = \"best\"\n",
    "path_to_pt_model = path + \"/\" + ${mname} + \".pt\"\n",
    "path_to_onnx_model = &{path} + \"/\" + ${mname} + \".onnx\"\n",
    "img = 320"
   ]
  },
  {
   "cell_type": "code",
   "execution_count": null,
   "metadata": {
    "id": "vBdRikowq_dt"
   },
   "outputs": [],
   "source": [
    "python3 /home/slava/Repos/yolov3/export.py --weights ${path_to_pt_model} --imgsz ${img} --batch-size 1 --include onnx"
   ]
  },
  {
   "cell_type": "code",
   "execution_count": null,
   "metadata": {
    "id": "jKvCS64_rZ5A"
   },
   "outputs": [],
   "source": [
    "python3 mo.py --input_model ${path_to_onnx_model} --output_dir ${path} --input_shape [1,3,${img},${img}] --input images --scale 255 --data_type FP16 --output Conv_358,Conv_304,Conv_250 --model_name ${mname} --progress"
   ]
  }
 ],
 "metadata": {
  "colab": {
   "authorship_tag": "ABX9TyMorK0uIrIEBdrG3swk6H7y",
   "collapsed_sections": [],
   "name": "PT_YOLOv3_Colab_Convert.ipynb",
   "provenance": []
  },
  "kernelspec": {
   "display_name": "Python 3",
   "language": "python",
   "name": "python3"
  },
  "language_info": {
   "codemirror_mode": {
    "name": "ipython",
    "version": 3
   },
   "file_extension": ".py",
   "mimetype": "text/x-python",
   "name": "python",
   "nbconvert_exporter": "python",
   "pygments_lexer": "ipython3",
   "version": "3.6.9"
  }
 },
 "nbformat": 4,
 "nbformat_minor": 1
}
